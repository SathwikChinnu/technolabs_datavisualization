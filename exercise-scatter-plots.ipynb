{
 "cells": [
  {
   "cell_type": "markdown",
   "id": "4280e827",
   "metadata": {
    "papermill": {
     "duration": 0.01322,
     "end_time": "2023-01-11T19:44:48.551880",
     "exception": false,
     "start_time": "2023-01-11T19:44:48.538660",
     "status": "completed"
    },
    "tags": []
   },
   "source": [
    "**This notebook is an exercise in the [Data Visualization](https://www.kaggle.com/learn/data-visualization) course.  You can reference the tutorial at [this link](https://www.kaggle.com/alexisbcook/scatter-plots).**\n",
    "\n",
    "---\n"
   ]
  },
  {
   "cell_type": "markdown",
   "id": "2ead529a",
   "metadata": {
    "papermill": {
     "duration": 0.009025,
     "end_time": "2023-01-11T19:44:48.570972",
     "exception": false,
     "start_time": "2023-01-11T19:44:48.561947",
     "status": "completed"
    },
    "tags": []
   },
   "source": [
    "In this exercise, you will use your new knowledge to propose a solution to a real-world scenario.  To succeed, you will need to import data into Python, answer questions using the data, and generate **scatter plots** to understand patterns in the data.\n",
    "\n",
    "## Scenario\n",
    "\n",
    "You work for a major candy producer, and your goal is to write a report that your company can use to guide the design of its next product.  Soon after starting your research, you stumble across this [very interesting dataset](https://fivethirtyeight.com/features/the-ultimate-halloween-candy-power-ranking/) containing results from a fun survey to crowdsource favorite candies.\n",
    "\n",
    "## Setup\n",
    "\n",
    "Run the next cell to import and configure the Python libraries that you need to complete the exercise."
   ]
  },
  {
   "cell_type": "code",
   "execution_count": 1,
   "id": "49dd3ae7",
   "metadata": {
    "execution": {
     "iopub.execute_input": "2023-01-11T19:44:48.597926Z",
     "iopub.status.busy": "2023-01-11T19:44:48.596859Z",
     "iopub.status.idle": "2023-01-11T19:44:49.831816Z",
     "shell.execute_reply": "2023-01-11T19:44:49.830391Z"
    },
    "papermill": {
     "duration": 1.25195,
     "end_time": "2023-01-11T19:44:49.835014",
     "exception": false,
     "start_time": "2023-01-11T19:44:48.583064",
     "status": "completed"
    },
    "tags": []
   },
   "outputs": [
    {
     "name": "stdout",
     "output_type": "stream",
     "text": [
      "Setup Complete\n"
     ]
    }
   ],
   "source": [
    "import pandas as pd\n",
    "pd.plotting.register_matplotlib_converters()\n",
    "import matplotlib.pyplot as plt\n",
    "%matplotlib inline\n",
    "import seaborn as sns\n",
    "print(\"Setup Complete\")"
   ]
  },
  {
   "cell_type": "markdown",
   "id": "c58b67c4",
   "metadata": {
    "papermill": {
     "duration": 0.008683,
     "end_time": "2023-01-11T19:44:49.852661",
     "exception": false,
     "start_time": "2023-01-11T19:44:49.843978",
     "status": "completed"
    },
    "tags": []
   },
   "source": [
    "The questions below will give you feedback on your work. Run the following cell to set up our feedback system."
   ]
  },
  {
   "cell_type": "code",
   "execution_count": 2,
   "id": "9bc9ca71",
   "metadata": {
    "execution": {
     "iopub.execute_input": "2023-01-11T19:44:49.874806Z",
     "iopub.status.busy": "2023-01-11T19:44:49.874297Z",
     "iopub.status.idle": "2023-01-11T19:44:49.944562Z",
     "shell.execute_reply": "2023-01-11T19:44:49.943631Z"
    },
    "papermill": {
     "duration": 0.083304,
     "end_time": "2023-01-11T19:44:49.947122",
     "exception": false,
     "start_time": "2023-01-11T19:44:49.863818",
     "status": "completed"
    },
    "tags": []
   },
   "outputs": [
    {
     "name": "stdout",
     "output_type": "stream",
     "text": [
      "Setup Complete\n"
     ]
    }
   ],
   "source": [
    "# Set up code checking\n",
    "import os\n",
    "if not os.path.exists(\"../input/candy.csv\"):\n",
    "    os.symlink(\"../input/data-for-datavis/candy.csv\", \"../input/candy.csv\") \n",
    "from learntools.core import binder\n",
    "binder.bind(globals())\n",
    "from learntools.data_viz_to_coder.ex4 import *\n",
    "print(\"Setup Complete\")"
   ]
  },
  {
   "cell_type": "markdown",
   "id": "df15c075",
   "metadata": {
    "papermill": {
     "duration": 0.009151,
     "end_time": "2023-01-11T19:44:49.965808",
     "exception": false,
     "start_time": "2023-01-11T19:44:49.956657",
     "status": "completed"
    },
    "tags": []
   },
   "source": [
    "## Step 1: Load the Data\n",
    "\n",
    "Read the candy data file into `candy_data`.  Use the `\"id\"` column to label the rows."
   ]
  },
  {
   "cell_type": "code",
   "execution_count": 3,
   "id": "311c2bff",
   "metadata": {
    "execution": {
     "iopub.execute_input": "2023-01-11T19:44:49.986066Z",
     "iopub.status.busy": "2023-01-11T19:44:49.985541Z",
     "iopub.status.idle": "2023-01-11T19:44:50.002125Z",
     "shell.execute_reply": "2023-01-11T19:44:50.000894Z"
    },
    "papermill": {
     "duration": 0.029704,
     "end_time": "2023-01-11T19:44:50.004855",
     "exception": false,
     "start_time": "2023-01-11T19:44:49.975151",
     "status": "completed"
    },
    "tags": []
   },
   "outputs": [
    {
     "data": {
      "application/javascript": [
       "parent.postMessage({\"jupyterEvent\": \"custom.exercise_interaction\", \"data\": {\"outcomeType\": 1, \"valueTowardsCompletion\": 0.3333333333333333, \"interactionType\": 1, \"questionType\": 1, \"questionId\": \"1_LoadData\", \"learnToolsVersion\": \"0.3.4\", \"failureMessage\": \"\", \"exceptionClass\": \"\", \"trace\": \"\"}}, \"*\")"
      ],
      "text/plain": [
       "<IPython.core.display.Javascript object>"
      ]
     },
     "metadata": {},
     "output_type": "display_data"
    },
    {
     "data": {
      "text/markdown": [
       "<span style=\"color:#33cc33\">Correct</span>"
      ],
      "text/plain": [
       "Correct"
      ]
     },
     "metadata": {},
     "output_type": "display_data"
    }
   ],
   "source": [
    "# Path of the file to read\n",
    "candy_filepath = \"../input/candy.csv\"\n",
    "\n",
    "# Fill in the line below to read the file into a variable candy_data\n",
    "candy_data = pd.read_csv(\"../input/candy.csv\",index_col=\"id\")\n",
    "\n",
    "# Run the line below with no changes to check that you've loaded the data correctly\n",
    "step_1.check()"
   ]
  },
  {
   "cell_type": "code",
   "execution_count": 4,
   "id": "01ec336c",
   "metadata": {
    "execution": {
     "iopub.execute_input": "2023-01-11T19:44:50.025931Z",
     "iopub.status.busy": "2023-01-11T19:44:50.025184Z",
     "iopub.status.idle": "2023-01-11T19:44:50.030321Z",
     "shell.execute_reply": "2023-01-11T19:44:50.029336Z"
    },
    "papermill": {
     "duration": 0.01888,
     "end_time": "2023-01-11T19:44:50.032594",
     "exception": false,
     "start_time": "2023-01-11T19:44:50.013714",
     "status": "completed"
    },
    "tags": []
   },
   "outputs": [],
   "source": [
    "# Lines below will give you a hint or solution code\n",
    "#step_1.hint()\n",
    "#step_1.solution()"
   ]
  },
  {
   "cell_type": "markdown",
   "id": "726b4ad8",
   "metadata": {
    "papermill": {
     "duration": 0.008656,
     "end_time": "2023-01-11T19:44:50.050304",
     "exception": false,
     "start_time": "2023-01-11T19:44:50.041648",
     "status": "completed"
    },
    "tags": []
   },
   "source": [
    "## Step 2: Review the data\n",
    "\n",
    "Use a Python command to print the first five rows of the data."
   ]
  },
  {
   "cell_type": "code",
   "execution_count": 5,
   "id": "db3e6dab",
   "metadata": {
    "execution": {
     "iopub.execute_input": "2023-01-11T19:44:50.070836Z",
     "iopub.status.busy": "2023-01-11T19:44:50.069683Z",
     "iopub.status.idle": "2023-01-11T19:44:50.094382Z",
     "shell.execute_reply": "2023-01-11T19:44:50.093104Z"
    },
    "papermill": {
     "duration": 0.038186,
     "end_time": "2023-01-11T19:44:50.097449",
     "exception": false,
     "start_time": "2023-01-11T19:44:50.059263",
     "status": "completed"
    },
    "tags": []
   },
   "outputs": [
    {
     "data": {
      "text/html": [
       "<div>\n",
       "<style scoped>\n",
       "    .dataframe tbody tr th:only-of-type {\n",
       "        vertical-align: middle;\n",
       "    }\n",
       "\n",
       "    .dataframe tbody tr th {\n",
       "        vertical-align: top;\n",
       "    }\n",
       "\n",
       "    .dataframe thead th {\n",
       "        text-align: right;\n",
       "    }\n",
       "</style>\n",
       "<table border=\"1\" class=\"dataframe\">\n",
       "  <thead>\n",
       "    <tr style=\"text-align: right;\">\n",
       "      <th></th>\n",
       "      <th>competitorname</th>\n",
       "      <th>chocolate</th>\n",
       "      <th>fruity</th>\n",
       "      <th>caramel</th>\n",
       "      <th>peanutyalmondy</th>\n",
       "      <th>nougat</th>\n",
       "      <th>crispedricewafer</th>\n",
       "      <th>hard</th>\n",
       "      <th>bar</th>\n",
       "      <th>pluribus</th>\n",
       "      <th>sugarpercent</th>\n",
       "      <th>pricepercent</th>\n",
       "      <th>winpercent</th>\n",
       "    </tr>\n",
       "    <tr>\n",
       "      <th>id</th>\n",
       "      <th></th>\n",
       "      <th></th>\n",
       "      <th></th>\n",
       "      <th></th>\n",
       "      <th></th>\n",
       "      <th></th>\n",
       "      <th></th>\n",
       "      <th></th>\n",
       "      <th></th>\n",
       "      <th></th>\n",
       "      <th></th>\n",
       "      <th></th>\n",
       "      <th></th>\n",
       "    </tr>\n",
       "  </thead>\n",
       "  <tbody>\n",
       "    <tr>\n",
       "      <th>0</th>\n",
       "      <td>100 Grand</td>\n",
       "      <td>Yes</td>\n",
       "      <td>No</td>\n",
       "      <td>Yes</td>\n",
       "      <td>No</td>\n",
       "      <td>No</td>\n",
       "      <td>Yes</td>\n",
       "      <td>No</td>\n",
       "      <td>Yes</td>\n",
       "      <td>No</td>\n",
       "      <td>0.732</td>\n",
       "      <td>0.860</td>\n",
       "      <td>66.971725</td>\n",
       "    </tr>\n",
       "    <tr>\n",
       "      <th>1</th>\n",
       "      <td>3 Musketeers</td>\n",
       "      <td>Yes</td>\n",
       "      <td>No</td>\n",
       "      <td>No</td>\n",
       "      <td>No</td>\n",
       "      <td>Yes</td>\n",
       "      <td>No</td>\n",
       "      <td>No</td>\n",
       "      <td>Yes</td>\n",
       "      <td>No</td>\n",
       "      <td>0.604</td>\n",
       "      <td>0.511</td>\n",
       "      <td>67.602936</td>\n",
       "    </tr>\n",
       "    <tr>\n",
       "      <th>2</th>\n",
       "      <td>Air Heads</td>\n",
       "      <td>No</td>\n",
       "      <td>Yes</td>\n",
       "      <td>No</td>\n",
       "      <td>No</td>\n",
       "      <td>No</td>\n",
       "      <td>No</td>\n",
       "      <td>No</td>\n",
       "      <td>No</td>\n",
       "      <td>No</td>\n",
       "      <td>0.906</td>\n",
       "      <td>0.511</td>\n",
       "      <td>52.341465</td>\n",
       "    </tr>\n",
       "    <tr>\n",
       "      <th>3</th>\n",
       "      <td>Almond Joy</td>\n",
       "      <td>Yes</td>\n",
       "      <td>No</td>\n",
       "      <td>No</td>\n",
       "      <td>Yes</td>\n",
       "      <td>No</td>\n",
       "      <td>No</td>\n",
       "      <td>No</td>\n",
       "      <td>Yes</td>\n",
       "      <td>No</td>\n",
       "      <td>0.465</td>\n",
       "      <td>0.767</td>\n",
       "      <td>50.347546</td>\n",
       "    </tr>\n",
       "    <tr>\n",
       "      <th>4</th>\n",
       "      <td>Baby Ruth</td>\n",
       "      <td>Yes</td>\n",
       "      <td>No</td>\n",
       "      <td>Yes</td>\n",
       "      <td>Yes</td>\n",
       "      <td>Yes</td>\n",
       "      <td>No</td>\n",
       "      <td>No</td>\n",
       "      <td>Yes</td>\n",
       "      <td>No</td>\n",
       "      <td>0.604</td>\n",
       "      <td>0.767</td>\n",
       "      <td>56.914547</td>\n",
       "    </tr>\n",
       "  </tbody>\n",
       "</table>\n",
       "</div>"
      ],
      "text/plain": [
       "   competitorname chocolate fruity caramel peanutyalmondy nougat  \\\n",
       "id                                                                 \n",
       "0       100 Grand       Yes     No     Yes             No     No   \n",
       "1    3 Musketeers       Yes     No      No             No    Yes   \n",
       "2       Air Heads        No    Yes      No             No     No   \n",
       "3      Almond Joy       Yes     No      No            Yes     No   \n",
       "4       Baby Ruth       Yes     No     Yes            Yes    Yes   \n",
       "\n",
       "   crispedricewafer hard  bar pluribus  sugarpercent  pricepercent  winpercent  \n",
       "id                                                                              \n",
       "0               Yes   No  Yes       No         0.732         0.860   66.971725  \n",
       "1                No   No  Yes       No         0.604         0.511   67.602936  \n",
       "2                No   No   No       No         0.906         0.511   52.341465  \n",
       "3                No   No  Yes       No         0.465         0.767   50.347546  \n",
       "4                No   No  Yes       No         0.604         0.767   56.914547  "
      ]
     },
     "execution_count": 5,
     "metadata": {},
     "output_type": "execute_result"
    }
   ],
   "source": [
    "# Print the first five rows of the data\n",
    "____ # Your code here\n",
    "candy_data.head()"
   ]
  },
  {
   "cell_type": "markdown",
   "id": "45c96e90",
   "metadata": {
    "papermill": {
     "duration": 0.008693,
     "end_time": "2023-01-11T19:44:50.115658",
     "exception": false,
     "start_time": "2023-01-11T19:44:50.106965",
     "status": "completed"
    },
    "tags": []
   },
   "source": [
    "The dataset contains 83 rows, where each corresponds to a different candy bar.  There are 13 columns:\n",
    "- `'competitorname'` contains the name of the candy bar. \n",
    "- the next **9** columns (from `'chocolate'` to `'pluribus'`) describe the candy.  For instance, rows with chocolate candies have `\"Yes\"` in the `'chocolate'` column (and candies without chocolate have `\"No\"` in the same column).\n",
    "- `'sugarpercent'` provides some indication of the amount of sugar, where higher values signify higher sugar content.\n",
    "- `'pricepercent'` shows the price per unit, relative to the other candies in the dataset.\n",
    "- `'winpercent'` is calculated from the survey results; higher values indicate that the candy was more popular with survey respondents.\n",
    "\n",
    "Use the first five rows of the data to answer the questions below."
   ]
  },
  {
   "cell_type": "code",
   "execution_count": 6,
   "id": "d21f96f6",
   "metadata": {
    "execution": {
     "iopub.execute_input": "2023-01-11T19:44:50.135842Z",
     "iopub.status.busy": "2023-01-11T19:44:50.135395Z",
     "iopub.status.idle": "2023-01-11T19:44:50.145693Z",
     "shell.execute_reply": "2023-01-11T19:44:50.144543Z"
    },
    "papermill": {
     "duration": 0.023269,
     "end_time": "2023-01-11T19:44:50.148067",
     "exception": false,
     "start_time": "2023-01-11T19:44:50.124798",
     "status": "completed"
    },
    "tags": []
   },
   "outputs": [
    {
     "data": {
      "application/javascript": [
       "parent.postMessage({\"jupyterEvent\": \"custom.exercise_interaction\", \"data\": {\"outcomeType\": 1, \"valueTowardsCompletion\": 0.3333333333333333, \"interactionType\": 1, \"questionType\": 1, \"questionId\": \"2_ReviewData\", \"learnToolsVersion\": \"0.3.4\", \"failureMessage\": \"\", \"exceptionClass\": \"\", \"trace\": \"\"}}, \"*\")"
      ],
      "text/plain": [
       "<IPython.core.display.Javascript object>"
      ]
     },
     "metadata": {},
     "output_type": "display_data"
    },
    {
     "data": {
      "text/markdown": [
       "<span style=\"color:#33cc33\">Correct</span>"
      ],
      "text/plain": [
       "Correct"
      ]
     },
     "metadata": {},
     "output_type": "display_data"
    }
   ],
   "source": [
    "# Fill in the line below: Which candy was more popular with survey respondents:\n",
    "# '3 Musketeers' or 'Almond Joy'?  (Please enclose your answer in single quotes.)\n",
    "more_popular = '3 Musketeers'\n",
    "\n",
    "# Fill in the line below: Which candy has higher sugar content: 'Air Heads'\n",
    "# or 'Baby Ruth'? (Please enclose your answer in single quotes.)\n",
    "more_sugar = 'Air Heads'\n",
    "\n",
    "# Check your answers\n",
    "step_2.check()"
   ]
  },
  {
   "cell_type": "code",
   "execution_count": 7,
   "id": "023cbb17",
   "metadata": {
    "execution": {
     "iopub.execute_input": "2023-01-11T19:44:50.169153Z",
     "iopub.status.busy": "2023-01-11T19:44:50.168275Z",
     "iopub.status.idle": "2023-01-11T19:44:50.173318Z",
     "shell.execute_reply": "2023-01-11T19:44:50.172196Z"
    },
    "papermill": {
     "duration": 0.018112,
     "end_time": "2023-01-11T19:44:50.175580",
     "exception": false,
     "start_time": "2023-01-11T19:44:50.157468",
     "status": "completed"
    },
    "tags": []
   },
   "outputs": [],
   "source": [
    "# Lines below will give you a hint or solution code\n",
    "#step_2.hint()\n",
    "#step_2.solution()"
   ]
  },
  {
   "cell_type": "markdown",
   "id": "c9e19991",
   "metadata": {
    "papermill": {
     "duration": 0.009585,
     "end_time": "2023-01-11T19:44:50.194640",
     "exception": false,
     "start_time": "2023-01-11T19:44:50.185055",
     "status": "completed"
    },
    "tags": []
   },
   "source": [
    "## Step 3: The role of sugar\n",
    "\n",
    "Do people tend to prefer candies with higher sugar content?  \n",
    "\n",
    "#### Part A\n",
    "\n",
    "Create a scatter plot that shows the relationship between `'sugarpercent'` (on the horizontal x-axis) and `'winpercent'` (on the vertical y-axis).  _Don't add a regression line just yet -- you'll do that in the next step!_"
   ]
  },
  {
   "cell_type": "code",
   "execution_count": 8,
   "id": "3aa21060",
   "metadata": {
    "execution": {
     "iopub.execute_input": "2023-01-11T19:44:50.216785Z",
     "iopub.status.busy": "2023-01-11T19:44:50.216113Z",
     "iopub.status.idle": "2023-01-11T19:44:50.518314Z",
     "shell.execute_reply": "2023-01-11T19:44:50.516975Z"
    },
    "papermill": {
     "duration": 0.316686,
     "end_time": "2023-01-11T19:44:50.521198",
     "exception": false,
     "start_time": "2023-01-11T19:44:50.204512",
     "status": "completed"
    },
    "tags": []
   },
   "outputs": [
    {
     "data": {
      "application/javascript": [
       "parent.postMessage({\"jupyterEvent\": \"custom.exercise_interaction\", \"data\": {\"outcomeType\": 1, \"valueTowardsCompletion\": 0.3333333333333333, \"interactionType\": 1, \"questionType\": 2, \"questionId\": \"3.1_PlotBlueScatter\", \"learnToolsVersion\": \"0.3.4\", \"failureMessage\": \"\", \"exceptionClass\": \"\", \"trace\": \"\"}}, \"*\")"
      ],
      "text/plain": [
       "<IPython.core.display.Javascript object>"
      ]
     },
     "metadata": {},
     "output_type": "display_data"
    },
    {
     "data": {
      "text/markdown": [
       "<span style=\"color:#33cc33\">Correct</span>"
      ],
      "text/plain": [
       "Correct"
      ]
     },
     "metadata": {},
     "output_type": "display_data"
    },
    {
     "data": {
      "image/png": "[encoded data removed]",
      "text/plain": [
       "<Figure size 864x432 with 1 Axes>"
      ]
     },
     "metadata": {
      "needs_background": "light"
     },
     "output_type": "display_data"
    }
   ],
   "source": [
    "# Scatter plot showing the relationship between 'sugarpercent' and 'winpercent'\n",
    "____ # Your code here\n",
    "plt.figure(figsize=(12,6))\n",
    "sns.scatterplot(x=candy_data['sugarpercent'],y=candy_data['winpercent'])\n",
    "# Check your answer\n",
    "step_3.a.check()"
   ]
  },
  {
   "cell_type": "code",
   "execution_count": 9,
   "id": "b5438dae",
   "metadata": {
    "execution": {
     "iopub.execute_input": "2023-01-11T19:44:50.551386Z",
     "iopub.status.busy": "2023-01-11T19:44:50.550154Z",
     "iopub.status.idle": "2023-01-11T19:44:50.555506Z",
     "shell.execute_reply": "2023-01-11T19:44:50.554569Z"
    },
    "papermill": {
     "duration": 0.020455,
     "end_time": "2023-01-11T19:44:50.557880",
     "exception": false,
     "start_time": "2023-01-11T19:44:50.537425",
     "status": "completed"
    },
    "tags": []
   },
   "outputs": [],
   "source": [
    "# Lines below will give you a hint or solution code\n",
    "#step_3.a.hint()\n",
    "#step_3.a.solution_plot()"
   ]
  },
  {
   "cell_type": "markdown",
   "id": "dead6de3",
   "metadata": {
    "papermill": {
     "duration": 0.014979,
     "end_time": "2023-01-11T19:44:50.585195",
     "exception": false,
     "start_time": "2023-01-11T19:44:50.570216",
     "status": "completed"
    },
    "tags": []
   },
   "source": [
    "#### Part B\n",
    "\n",
    "Does the scatter plot show a **strong** correlation between the two variables?  If so, are candies with more sugar relatively more or less popular with the survey respondents?"
   ]
  },
  {
   "cell_type": "code",
   "execution_count": 10,
   "id": "f51493f2",
   "metadata": {
    "execution": {
     "iopub.execute_input": "2023-01-11T19:44:50.612681Z",
     "iopub.status.busy": "2023-01-11T19:44:50.611862Z",
     "iopub.status.idle": "2023-01-11T19:44:50.619669Z",
     "shell.execute_reply": "2023-01-11T19:44:50.617659Z"
    },
    "papermill": {
     "duration": 0.026501,
     "end_time": "2023-01-11T19:44:50.623822",
     "exception": false,
     "start_time": "2023-01-11T19:44:50.597321",
     "status": "completed"
    },
    "tags": []
   },
   "outputs": [],
   "source": [
    "#step_3.b.hint()"
   ]
  },
  {
   "cell_type": "code",
   "execution_count": 11,
   "id": "ce928ad4",
   "metadata": {
    "execution": {
     "iopub.execute_input": "2023-01-11T19:44:50.648953Z",
     "iopub.status.busy": "2023-01-11T19:44:50.648009Z",
     "iopub.status.idle": "2023-01-11T19:44:50.656496Z",
     "shell.execute_reply": "2023-01-11T19:44:50.655688Z"
    },
    "papermill": {
     "duration": 0.022927,
     "end_time": "2023-01-11T19:44:50.658991",
     "exception": false,
     "start_time": "2023-01-11T19:44:50.636064",
     "status": "completed"
    },
    "tags": []
   },
   "outputs": [
    {
     "data": {
      "application/javascript": [
       "parent.postMessage({\"jupyterEvent\": \"custom.exercise_interaction\", \"data\": {\"interactionType\": 3, \"questionType\": 4, \"questionId\": \"3.2_ThinkBlueScatter\", \"learnToolsVersion\": \"0.3.4\", \"valueTowardsCompletion\": 0.0, \"failureMessage\": \"\", \"exceptionClass\": \"\", \"trace\": \"\", \"outcomeType\": 4}}, \"*\")"
      ],
      "text/plain": [
       "<IPython.core.display.Javascript object>"
      ]
     },
     "metadata": {},
     "output_type": "display_data"
    },
    {
     "data": {
      "text/markdown": [
       "<span style=\"color:#33cc99\">Solution:</span> The scatter plot does not show a strong correlation between the two variables. Since there is no clear relationship between the two variables, this tells us that sugar content does not play a strong role in candy popularity."
      ],
      "text/plain": [
       "Solution: The scatter plot does not show a strong correlation between the two variables. Since there is no clear relationship between the two variables, this tells us that sugar content does not play a strong role in candy popularity."
      ]
     },
     "metadata": {},
     "output_type": "display_data"
    }
   ],
   "source": [
    "# Check your answer (Run this code cell to receive credit!)\n",
    "step_3.b.solution()"
   ]
  },
  {
   "cell_type": "markdown",
   "id": "37351a72",
   "metadata": {
    "papermill": {
     "duration": 0.009901,
     "end_time": "2023-01-11T19:44:50.679400",
     "exception": false,
     "start_time": "2023-01-11T19:44:50.669499",
     "status": "completed"
    },
    "tags": []
   },
   "source": [
    "## Step 4: Take a closer look\n",
    "\n",
    "#### Part A\n",
    "\n",
    "Create the same scatter plot you created in **Step 3**, but now with a regression line!"
   ]
  },
  {
   "cell_type": "code",
   "execution_count": 12,
   "id": "9b12b6f2",
   "metadata": {
    "execution": {
     "iopub.execute_input": "2023-01-11T19:44:50.702574Z",
     "iopub.status.busy": "2023-01-11T19:44:50.702070Z",
     "iopub.status.idle": "2023-01-11T19:44:51.053443Z",
     "shell.execute_reply": "2023-01-11T19:44:51.052326Z"
    },
    "papermill": {
     "duration": 0.365848,
     "end_time": "2023-01-11T19:44:51.056072",
     "exception": false,
     "start_time": "2023-01-11T19:44:50.690224",
     "status": "completed"
    },
    "tags": []
   },
   "outputs": [
    {
     "data": {
      "application/javascript": [
       "parent.postMessage({\"jupyterEvent\": \"custom.exercise_interaction\", \"data\": {\"outcomeType\": 1, \"valueTowardsCompletion\": 0.3333333333333333, \"interactionType\": 1, \"questionType\": 2, \"questionId\": \"4.1_PlotBlueReg\", \"learnToolsVersion\": \"0.3.4\", \"failureMessage\": \"\", \"exceptionClass\": \"\", \"trace\": \"\"}}, \"*\")"
      ],
      "text/plain": [
       "<IPython.core.display.Javascript object>"
      ]
     },
     "metadata": {},
     "output_type": "display_data"
    },
    {
     "data": {
      "text/markdown": [
       "<span style=\"color:#33cc33\">Correct</span>"
      ],
      "text/plain": [
       "Correct"
      ]
     },
     "metadata": {},
     "output_type": "display_data"
    },
    {
     "data": {
      "image/png": "[encoded data removed]",
      "text/plain": [
       "<Figure size 432x288 with 1 Axes>"
      ]
     },
     "metadata": {
      "needs_background": "light"
     },
     "output_type": "display_data"
    }
   ],
   "source": [
    "# Scatter plot w/ regression line showing the relationship between 'sugarpercent' and 'winpercent'\n",
    "____ # Your code here\n",
    "sns.regplot(x=candy_data['sugarpercent'],y=candy_data['winpercent'])\n",
    "# Check your answer\n",
    "step_4.a.check()"
   ]
  },
  {
   "cell_type": "code",
   "execution_count": 13,
   "id": "b9cf8c30",
   "metadata": {
    "execution": {
     "iopub.execute_input": "2023-01-11T19:44:51.080708Z",
     "iopub.status.busy": "2023-01-11T19:44:51.080244Z",
     "iopub.status.idle": "2023-01-11T19:44:51.084820Z",
     "shell.execute_reply": "2023-01-11T19:44:51.083676Z"
    },
    "papermill": {
     "duration": 0.020546,
     "end_time": "2023-01-11T19:44:51.087944",
     "exception": false,
     "start_time": "2023-01-11T19:44:51.067398",
     "status": "completed"
    },
    "tags": []
   },
   "outputs": [],
   "source": [
    "# Lines below will give you a hint or solution code\n",
    "#step_4.a.hint()\n",
    "#step_4.a.solution_plot()"
   ]
  },
  {
   "cell_type": "markdown",
   "id": "97b904c8",
   "metadata": {
    "papermill": {
     "duration": 0.010624,
     "end_time": "2023-01-11T19:44:51.109752",
     "exception": false,
     "start_time": "2023-01-11T19:44:51.099128",
     "status": "completed"
    },
    "tags": []
   },
   "source": [
    "#### Part B\n",
    "\n",
    "According to the plot above, is there a **slight** correlation between `'winpercent'` and `'sugarpercent'`?  What does this tell you about the candy that people tend to prefer?"
   ]
  },
  {
   "cell_type": "code",
   "execution_count": 14,
   "id": "d16287a4",
   "metadata": {
    "execution": {
     "iopub.execute_input": "2023-01-11T19:44:51.134431Z",
     "iopub.status.busy": "2023-01-11T19:44:51.133577Z",
     "iopub.status.idle": "2023-01-11T19:44:51.138396Z",
     "shell.execute_reply": "2023-01-11T19:44:51.137368Z"
    },
    "papermill": {
     "duration": 0.020115,
     "end_time": "2023-01-11T19:44:51.140966",
     "exception": false,
     "start_time": "2023-01-11T19:44:51.120851",
     "status": "completed"
    },
    "tags": []
   },
   "outputs": [],
   "source": [
    "#step_4.b.hint()"
   ]
  },
  {
   "cell_type": "code",
   "execution_count": 15,
   "id": "0a97fd2b",
   "metadata": {
    "execution": {
     "iopub.execute_input": "2023-01-11T19:44:51.165297Z",
     "iopub.status.busy": "2023-01-11T19:44:51.164661Z",
     "iopub.status.idle": "2023-01-11T19:44:51.174239Z",
     "shell.execute_reply": "2023-01-11T19:44:51.173095Z"
    },
    "papermill": {
     "duration": 0.024489,
     "end_time": "2023-01-11T19:44:51.176717",
     "exception": false,
     "start_time": "2023-01-11T19:44:51.152228",
     "status": "completed"
    },
    "tags": []
   },
   "outputs": [
    {
     "data": {
      "application/javascript": [
       "parent.postMessage({\"jupyterEvent\": \"custom.exercise_interaction\", \"data\": {\"interactionType\": 3, \"questionType\": 4, \"questionId\": \"4.2_ThinkBlueReg\", \"learnToolsVersion\": \"0.3.4\", \"valueTowardsCompletion\": 0.0, \"failureMessage\": \"\", \"exceptionClass\": \"\", \"trace\": \"\", \"outcomeType\": 4}}, \"*\")"
      ],
      "text/plain": [
       "<IPython.core.display.Javascript object>"
      ]
     },
     "metadata": {},
     "output_type": "display_data"
    },
    {
     "data": {
      "text/markdown": [
       "<span style=\"color:#33cc99\">Solution:</span> Since the regression line has a slightly positive slope, this tells us that there is a slightly positive correlation between `'winpercent'` and `'sugarpercent'`. Thus, people have a slight preference for candies containing relatively more sugar."
      ],
      "text/plain": [
       "Solution: Since the regression line has a slightly positive slope, this tells us that there is a slightly positive correlation between `'winpercent'` and `'sugarpercent'`. Thus, people have a slight preference for candies containing relatively more sugar."
      ]
     },
     "metadata": {},
     "output_type": "display_data"
    }
   ],
   "source": [
    "# Check your answer (Run this code cell to receive credit!)\n",
    "step_4.b.solution()"
   ]
  },
  {
   "cell_type": "markdown",
   "id": "feff925e",
   "metadata": {
    "papermill": {
     "duration": 0.011075,
     "end_time": "2023-01-11T19:44:51.199468",
     "exception": false,
     "start_time": "2023-01-11T19:44:51.188393",
     "status": "completed"
    },
    "tags": []
   },
   "source": [
    "## Step 5: Chocolate!\n",
    "\n",
    "In the code cell below, create a scatter plot to show the relationship between `'pricepercent'` (on the horizontal x-axis) and `'winpercent'` (on the vertical y-axis). Use the `'chocolate'` column to color-code the points.  _Don't add any regression lines just yet -- you'll do that in the next step!_"
   ]
  },
  {
   "cell_type": "code",
   "execution_count": 16,
   "id": "54ee8bee",
   "metadata": {
    "execution": {
     "iopub.execute_input": "2023-01-11T19:44:51.224204Z",
     "iopub.status.busy": "2023-01-11T19:44:51.223724Z",
     "iopub.status.idle": "2023-01-11T19:44:51.504226Z",
     "shell.execute_reply": "2023-01-11T19:44:51.502795Z"
    },
    "papermill": {
     "duration": 0.296273,
     "end_time": "2023-01-11T19:44:51.507096",
     "exception": false,
     "start_time": "2023-01-11T19:44:51.210823",
     "status": "completed"
    },
    "tags": []
   },
   "outputs": [
    {
     "data": {
      "application/javascript": [
       "parent.postMessage({\"jupyterEvent\": \"custom.exercise_interaction\", \"data\": {\"outcomeType\": 1, \"valueTowardsCompletion\": 0.3333333333333333, \"interactionType\": 1, \"questionType\": 2, \"questionId\": \"5_ColorScatter\", \"learnToolsVersion\": \"0.3.4\", \"failureMessage\": \"\", \"exceptionClass\": \"\", \"trace\": \"\"}}, \"*\")"
      ],
      "text/plain": [
       "<IPython.core.display.Javascript object>"
      ]
     },
     "metadata": {},
     "output_type": "display_data"
    },
    {
     "data": {
      "text/markdown": [
       "<span style=\"color:#33cc33\">Correct</span>"
      ],
      "text/plain": [
       "Correct"
      ]
     },
     "metadata": {},
     "output_type": "display_data"
    },
    {
     "data": {
      "image/png": "[encoded data removed]",
      "text/plain": [
       "<Figure size 432x288 with 1 Axes>"
      ]
     },
     "metadata": {
      "needs_background": "light"
     },
     "output_type": "display_data"
    }
   ],
   "source": [
    "# Scatter plot showing the relationship between 'pricepercent', 'winpercent', and 'chocolate'\n",
    "____ # Your code here\n",
    "sns.scatterplot(x=\"pricepercent\",y=\"winpercent\",hue=\"chocolate\",data=candy_data)\n",
    "# Check your answer\n",
    "step_5.check()"
   ]
  },
  {
   "cell_type": "code",
   "execution_count": 17,
   "id": "857927ad",
   "metadata": {
    "execution": {
     "iopub.execute_input": "2023-01-11T19:44:51.533656Z",
     "iopub.status.busy": "2023-01-11T19:44:51.533198Z",
     "iopub.status.idle": "2023-01-11T19:44:51.537833Z",
     "shell.execute_reply": "2023-01-11T19:44:51.536597Z"
    },
    "papermill": {
     "duration": 0.02117,
     "end_time": "2023-01-11T19:44:51.540593",
     "exception": false,
     "start_time": "2023-01-11T19:44:51.519423",
     "status": "completed"
    },
    "tags": []
   },
   "outputs": [],
   "source": [
    "# Lines below will give you a hint or solution code\n",
    "#step_5.hint()\n",
    "#step_5.solution_plot()"
   ]
  },
  {
   "cell_type": "markdown",
   "id": "767f37b8",
   "metadata": {
    "papermill": {
     "duration": 0.011875,
     "end_time": "2023-01-11T19:44:51.564689",
     "exception": false,
     "start_time": "2023-01-11T19:44:51.552814",
     "status": "completed"
    },
    "tags": []
   },
   "source": [
    "Can you see any interesting patterns in the scatter plot?  We'll investigate this plot further  by adding regression lines in the next step!\n",
    "\n",
    "## Step 6: Investigate chocolate\n",
    "\n",
    "#### Part A\n",
    "\n",
    "Create the same scatter plot you created in **Step 5**, but now with two regression lines, corresponding to (1) chocolate candies and (2) candies without chocolate."
   ]
  },
  {
   "cell_type": "code",
   "execution_count": 18,
   "id": "e7fe2282",
   "metadata": {
    "execution": {
     "iopub.execute_input": "2023-01-11T19:44:51.591042Z",
     "iopub.status.busy": "2023-01-11T19:44:51.590528Z",
     "iopub.status.idle": "2023-01-11T19:44:52.171699Z",
     "shell.execute_reply": "2023-01-11T19:44:52.170724Z"
    },
    "papermill": {
     "duration": 0.59736,
     "end_time": "2023-01-11T19:44:52.173993",
     "exception": false,
     "start_time": "2023-01-11T19:44:51.576633",
     "status": "completed"
    },
    "tags": []
   },
   "outputs": [
    {
     "data": {
      "application/javascript": [
       "parent.postMessage({\"jupyterEvent\": \"custom.exercise_interaction\", \"data\": {\"outcomeType\": 1, \"valueTowardsCompletion\": 0.3333333333333333, \"interactionType\": 1, \"questionType\": 2, \"questionId\": \"6.1_PlotColorReg\", \"learnToolsVersion\": \"0.3.4\", \"failureMessage\": \"\", \"exceptionClass\": \"\", \"trace\": \"\"}}, \"*\")"
      ],
      "text/plain": [
       "<IPython.core.display.Javascript object>"
      ]
     },
     "metadata": {},
     "output_type": "display_data"
    },
    {
     "data": {
      "text/markdown": [
       "<span style=\"color:#33cc33\">Correct</span>"
      ],
      "text/plain": [
       "Correct"
      ]
     },
     "metadata": {},
     "output_type": "display_data"
    },
    {
     "data": {
      "image/png": "[encoded data removed]",
      "text/plain": [
       "<Figure size 416.375x360 with 1 Axes>"
      ]
     },
     "metadata": {
      "needs_background": "light"
     },
     "output_type": "display_data"
    }
   ],
   "source": [
    "# Color-coded scatter plot w/ regression lines\n",
    "____ # Your code here\n",
    "sns.lmplot(x=\"pricepercent\",y=\"winpercent\",hue=\"chocolate\",data=candy_data)\n",
    "# Check your answer\n",
    "step_6.a.check()"
   ]
  },
  {
   "cell_type": "code",
   "execution_count": 19,
   "id": "1c46c62a",
   "metadata": {
    "execution": {
     "iopub.execute_input": "2023-01-11T19:44:52.202399Z",
     "iopub.status.busy": "2023-01-11T19:44:52.201145Z",
     "iopub.status.idle": "2023-01-11T19:44:52.206434Z",
     "shell.execute_reply": "2023-01-11T19:44:52.205486Z"
    },
    "papermill": {
     "duration": 0.021691,
     "end_time": "2023-01-11T19:44:52.208778",
     "exception": false,
     "start_time": "2023-01-11T19:44:52.187087",
     "status": "completed"
    },
    "tags": []
   },
   "outputs": [],
   "source": [
    "# Lines below will give you a hint or solution code\n",
    "#step_6.a.hint()\n",
    "#step_6.a.solution_plot()"
   ]
  },
  {
   "cell_type": "markdown",
   "id": "6abd4431",
   "metadata": {
    "papermill": {
     "duration": 0.012368,
     "end_time": "2023-01-11T19:44:52.233742",
     "exception": false,
     "start_time": "2023-01-11T19:44:52.221374",
     "status": "completed"
    },
    "tags": []
   },
   "source": [
    "#### Part B\n",
    "\n",
    "Using the regression lines, what conclusions can you draw about the effects of chocolate and price on candy popularity?"
   ]
  },
  {
   "cell_type": "code",
   "execution_count": 20,
   "id": "41a4317b",
   "metadata": {
    "execution": {
     "iopub.execute_input": "2023-01-11T19:44:52.261646Z",
     "iopub.status.busy": "2023-01-11T19:44:52.260717Z",
     "iopub.status.idle": "2023-01-11T19:44:52.265903Z",
     "shell.execute_reply": "2023-01-11T19:44:52.265095Z"
    },
    "papermill": {
     "duration": 0.021708,
     "end_time": "2023-01-11T19:44:52.268213",
     "exception": false,
     "start_time": "2023-01-11T19:44:52.246505",
     "status": "completed"
    },
    "tags": []
   },
   "outputs": [],
   "source": [
    "#step_6.b.hint()"
   ]
  },
  {
   "cell_type": "code",
   "execution_count": 21,
   "id": "8c35ed98",
   "metadata": {
    "execution": {
     "iopub.execute_input": "2023-01-11T19:44:52.302145Z",
     "iopub.status.busy": "2023-01-11T19:44:52.300785Z",
     "iopub.status.idle": "2023-01-11T19:44:52.311153Z",
     "shell.execute_reply": "2023-01-11T19:44:52.309945Z"
    },
    "papermill": {
     "duration": 0.032005,
     "end_time": "2023-01-11T19:44:52.313443",
     "exception": false,
     "start_time": "2023-01-11T19:44:52.281438",
     "status": "completed"
    },
    "tags": []
   },
   "outputs": [
    {
     "data": {
      "application/javascript": [
       "parent.postMessage({\"jupyterEvent\": \"custom.exercise_interaction\", \"data\": {\"interactionType\": 3, \"questionType\": 4, \"questionId\": \"6.2_ThinkColorReg\", \"learnToolsVersion\": \"0.3.4\", \"valueTowardsCompletion\": 0.0, \"failureMessage\": \"\", \"exceptionClass\": \"\", \"trace\": \"\", \"outcomeType\": 4}}, \"*\")"
      ],
      "text/plain": [
       "<IPython.core.display.Javascript object>"
      ]
     },
     "metadata": {},
     "output_type": "display_data"
    },
    {
     "data": {
      "text/markdown": [
       "<span style=\"color:#33cc99\">Solution:</span> We'll begin with the regression line for chocolate candies. Since this line has a slightly positive slope, we can say that more expensive chocolate candies tend to be more popular (than relatively cheaper chocolate candies).  Likewise, since the regression line for candies without chocolate has a negative slope, we can say that if candies don't contain chocolate, they tend to be more popular when they are cheaper.  One important note, however, is that the dataset is quite small -- so we shouldn't invest too much trust in these patterns!  To inspire more confidence in the results, we should add more candies to the dataset."
      ],
      "text/plain": [
       "Solution: We'll begin with the regression line for chocolate candies. Since this line has a slightly positive slope, we can say that more expensive chocolate candies tend to be more popular (than relatively cheaper chocolate candies).  Likewise, since the regression line for candies without chocolate has a negative slope, we can say that if candies don't contain chocolate, they tend to be more popular when they are cheaper.  One important note, however, is that the dataset is quite small -- so we shouldn't invest too much trust in these patterns!  To inspire more confidence in the results, we should add more candies to the dataset."
      ]
     },
     "metadata": {},
     "output_type": "display_data"
    }
   ],
   "source": [
    "# Check your answer (Run this code cell to receive credit!)\n",
    "step_6.b.solution()"
   ]
  },
  {
   "cell_type": "markdown",
   "id": "6d9a291d",
   "metadata": {
    "papermill": {
     "duration": 0.013401,
     "end_time": "2023-01-11T19:44:52.339915",
     "exception": false,
     "start_time": "2023-01-11T19:44:52.326514",
     "status": "completed"
    },
    "tags": []
   },
   "source": [
    "## Step 7: Everybody loves chocolate.\n",
    "\n",
    "#### Part A\n",
    "\n",
    "Create a categorical scatter plot to highlight the relationship between `'chocolate'` and `'winpercent'`.  Put `'chocolate'` on the (horizontal) x-axis, and `'winpercent'` on the (vertical) y-axis."
   ]
  },
  {
   "cell_type": "code",
   "execution_count": 22,
   "id": "0a9a9b3c",
   "metadata": {
    "execution": {
     "iopub.execute_input": "2023-01-11T19:44:52.369408Z",
     "iopub.status.busy": "2023-01-11T19:44:52.368043Z",
     "iopub.status.idle": "2023-01-11T19:44:52.523887Z",
     "shell.execute_reply": "2023-01-11T19:44:52.522815Z"
    },
    "papermill": {
     "duration": 0.173431,
     "end_time": "2023-01-11T19:44:52.526843",
     "exception": false,
     "start_time": "2023-01-11T19:44:52.353412",
     "status": "completed"
    },
    "tags": []
   },
   "outputs": [
    {
     "data": {
      "application/javascript": [
       "parent.postMessage({\"jupyterEvent\": \"custom.exercise_interaction\", \"data\": {\"outcomeType\": 1, \"valueTowardsCompletion\": 0.3333333333333333, \"interactionType\": 1, \"questionType\": 2, \"questionId\": \"7.1_PlotSwarm\", \"learnToolsVersion\": \"0.3.4\", \"failureMessage\": \"\", \"exceptionClass\": \"\", \"trace\": \"\"}}, \"*\")"
      ],
      "text/plain": [
       "<IPython.core.display.Javascript object>"
      ]
     },
     "metadata": {},
     "output_type": "display_data"
    },
    {
     "data": {
      "text/markdown": [
       "<span style=\"color:#33cc33\">Correct</span>"
      ],
      "text/plain": [
       "Correct"
      ]
     },
     "metadata": {},
     "output_type": "display_data"
    },
    {
     "data": {
      "image/png": "[encoded data removed]",
      "text/plain": [
       "<Figure size 432x288 with 1 Axes>"
      ]
     },
     "metadata": {
      "needs_background": "light"
     },
     "output_type": "display_data"
    }
   ],
   "source": [
    "# Scatter plot showing the relationship between 'chocolate' and 'winpercent'\n",
    "____ # Your code here\n",
    "sns.swarmplot(x=candy_data['chocolate'],y=candy_data['winpercent'])\n",
    "# Check your answer\n",
    "step_7.a.check()"
   ]
  },
  {
   "cell_type": "code",
   "execution_count": 23,
   "id": "6832ac2f",
   "metadata": {
    "execution": {
     "iopub.execute_input": "2023-01-11T19:44:52.557890Z",
     "iopub.status.busy": "2023-01-11T19:44:52.556969Z",
     "iopub.status.idle": "2023-01-11T19:44:52.562866Z",
     "shell.execute_reply": "2023-01-11T19:44:52.561344Z"
    },
    "papermill": {
     "duration": 0.024697,
     "end_time": "2023-01-11T19:44:52.565927",
     "exception": false,
     "start_time": "2023-01-11T19:44:52.541230",
     "status": "completed"
    },
    "tags": []
   },
   "outputs": [],
   "source": [
    "# Lines below will give you a hint or solution code\n",
    "#step_7.a.hint()\n",
    "#step_7.a.solution_plot()"
   ]
  },
  {
   "cell_type": "markdown",
   "id": "88052644",
   "metadata": {
    "papermill": {
     "duration": 0.013488,
     "end_time": "2023-01-11T19:44:52.593820",
     "exception": false,
     "start_time": "2023-01-11T19:44:52.580332",
     "status": "completed"
    },
    "tags": []
   },
   "source": [
    "#### Part B\n",
    "\n",
    "You decide to dedicate a section of your report to the fact that chocolate candies tend to be more popular than candies without chocolate.  Which plot is more appropriate to tell this story: the plot from **Step 6**, or the plot from **Step 7**?"
   ]
  },
  {
   "cell_type": "code",
   "execution_count": 24,
   "id": "7676ea2a",
   "metadata": {
    "execution": {
     "iopub.execute_input": "2023-01-11T19:44:52.625111Z",
     "iopub.status.busy": "2023-01-11T19:44:52.624238Z",
     "iopub.status.idle": "2023-01-11T19:44:52.629739Z",
     "shell.execute_reply": "2023-01-11T19:44:52.628787Z"
    },
    "papermill": {
     "duration": 0.023972,
     "end_time": "2023-01-11T19:44:52.632216",
     "exception": false,
     "start_time": "2023-01-11T19:44:52.608244",
     "status": "completed"
    },
    "tags": []
   },
   "outputs": [],
   "source": [
    "#step_7.b.hint()"
   ]
  },
  {
   "cell_type": "code",
   "execution_count": 25,
   "id": "b704e915",
   "metadata": {
    "execution": {
     "iopub.execute_input": "2023-01-11T19:44:52.662333Z",
     "iopub.status.busy": "2023-01-11T19:44:52.661839Z",
     "iopub.status.idle": "2023-01-11T19:44:52.672058Z",
     "shell.execute_reply": "2023-01-11T19:44:52.670925Z"
    },
    "papermill": {
     "duration": 0.028185,
     "end_time": "2023-01-11T19:44:52.674335",
     "exception": false,
     "start_time": "2023-01-11T19:44:52.646150",
     "status": "completed"
    },
    "tags": []
   },
   "outputs": [
    {
     "data": {
      "application/javascript": [
       "parent.postMessage({\"jupyterEvent\": \"custom.exercise_interaction\", \"data\": {\"interactionType\": 3, \"questionType\": 4, \"questionId\": \"7.2_ThinkSwarm\", \"learnToolsVersion\": \"0.3.4\", \"valueTowardsCompletion\": 0.0, \"failureMessage\": \"\", \"exceptionClass\": \"\", \"trace\": \"\", \"outcomeType\": 4}}, \"*\")"
      ],
      "text/plain": [
       "<IPython.core.display.Javascript object>"
      ]
     },
     "metadata": {},
     "output_type": "display_data"
    },
    {
     "data": {
      "text/markdown": [
       "<span style=\"color:#33cc99\">Solution:</span> In this case, the categorical scatter plot from **Step 7** is the more appropriate plot. While both plots tell the desired story, the plot from **Step 6** conveys far more information that could distract from the main point."
      ],
      "text/plain": [
       "Solution: In this case, the categorical scatter plot from **Step 7** is the more appropriate plot. While both plots tell the desired story, the plot from **Step 6** conveys far more information that could distract from the main point."
      ]
     },
     "metadata": {},
     "output_type": "display_data"
    }
   ],
   "source": [
    "# Check your answer (Run this code cell to receive credit!)\n",
    "step_7.b.solution()"
   ]
  },
  {
   "cell_type": "markdown",
   "id": "47713761",
   "metadata": {
    "papermill": {
     "duration": 0.013529,
     "end_time": "2023-01-11T19:44:52.702189",
     "exception": false,
     "start_time": "2023-01-11T19:44:52.688660",
     "status": "completed"
    },
    "tags": []
   },
   "source": [
    "## Keep going\n",
    "\n",
    "Explore **[histograms and density plots](https://www.kaggle.com/alexisbcook/distributions)**."
   ]
  },
  {
   "cell_type": "markdown",
   "id": "ea9a3654",
   "metadata": {
    "papermill": {
     "duration": 0.014215,
     "end_time": "2023-01-11T19:44:52.730312",
     "exception": false,
     "start_time": "2023-01-11T19:44:52.716097",
     "status": "completed"
    },
    "tags": []
   },
   "source": [
    "---\n",
    "\n",
    "\n",
    "\n",
    "\n",
    "*Have questions or comments? Visit the [course discussion forum](https://www.kaggle.com/learn/data-visualization/discussion) to chat with other learners.*"
   ]
  }
 ],
 "metadata": {
  "kernelspec": {
   "display_name": "Python 3",
   "language": "python",
   "name": "python3"
  },
  "language_info": {
   "codemirror_mode": {
    "name": "ipython",
    "version": 3
   },
   "file_extension": ".py",
   "mimetype": "text/x-python",
   "name": "python",
   "nbconvert_exporter": "python",
   "pygments_lexer": "ipython3",
   "version": "3.7.12"
  },
  "papermill": {
   "default_parameters": {},
   "duration": 14.221332,
   "end_time": "2023-01-11T19:44:53.769565",
   "environment_variables": {},
   "exception": null,
   "input_path": "__notebook__.ipynb",
   "output_path": "__notebook__.ipynb",
   "parameters": {},
   "start_time": "2023-01-11T19:44:39.548233",
   "version": "2.3.4"
  }
 },
 "nbformat": 4,
 "nbformat_minor": 5
}
