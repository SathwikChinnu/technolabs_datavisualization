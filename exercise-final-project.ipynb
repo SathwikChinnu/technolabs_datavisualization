{
 "cells": [
  {
   "cell_type": "markdown",
   "id": "d1e859f6",
   "metadata": {
    "papermill": {
     "duration": 0.005263,
     "end_time": "2023-01-12T18:17:17.571925",
     "exception": false,
     "start_time": "2023-01-12T18:17:17.566662",
     "status": "completed"
    },
    "tags": []
   },
   "source": [
    "**This notebook is an exercise in the [Data Visualization](https://www.kaggle.com/learn/data-visualization) course.  You can reference the tutorial at [this link](https://www.kaggle.com/alexisbcook/final-project).**\n",
    "\n",
    "---\n"
   ]
  },
  {
   "cell_type": "markdown",
   "id": "78a6a5d4",
   "metadata": {
    "papermill": {
     "duration": 0.003721,
     "end_time": "2023-01-12T18:17:17.579900",
     "exception": false,
     "start_time": "2023-01-12T18:17:17.576179",
     "status": "completed"
    },
    "tags": []
   },
   "source": [
    "Now it's time for you to demonstrate your new skills with a project of your own!\n",
    "\n",
    "In this exercise, you will work with a dataset of your choosing.  Once you've selected a dataset, you'll design and create your own plot to tell interesting stories behind the data!\n",
    "\n",
    "## Setup\n",
    "\n",
    "Run the next cell to import and configure the Python libraries that you need to complete the exercise."
   ]
  },
  {
   "cell_type": "code",
   "execution_count": 1,
   "id": "2e5316cb",
   "metadata": {
    "execution": {
     "iopub.execute_input": "2023-01-12T18:17:17.590371Z",
     "iopub.status.busy": "2023-01-12T18:17:17.589521Z",
     "iopub.status.idle": "2023-01-12T18:17:18.577571Z",
     "shell.execute_reply": "2023-01-12T18:17:18.576475Z"
    },
    "papermill": {
     "duration": 0.997073,
     "end_time": "2023-01-12T18:17:18.580903",
     "exception": false,
     "start_time": "2023-01-12T18:17:17.583830",
     "status": "completed"
    },
    "tags": []
   },
   "outputs": [
    {
     "name": "stdout",
     "output_type": "stream",
     "text": [
      "Setup Complete\n"
     ]
    }
   ],
   "source": [
    "import pandas as pd\n",
    "pd.plotting.register_matplotlib_converters()\n",
    "import matplotlib.pyplot as plt\n",
    "%matplotlib inline\n",
    "import seaborn as sns\n",
    "print(\"Setup Complete\")"
   ]
  },
  {
   "cell_type": "markdown",
   "id": "2ba43cd1",
   "metadata": {
    "papermill": {
     "duration": 0.003731,
     "end_time": "2023-01-12T18:17:18.589416",
     "exception": false,
     "start_time": "2023-01-12T18:17:18.585685",
     "status": "completed"
    },
    "tags": []
   },
   "source": [
    "The questions below will give you feedback on your work. Run the following cell to set up the feedback system."
   ]
  },
  {
   "cell_type": "code",
   "execution_count": 2,
   "id": "39359ee7",
   "metadata": {
    "execution": {
     "iopub.execute_input": "2023-01-12T18:17:18.599963Z",
     "iopub.status.busy": "2023-01-12T18:17:18.598837Z",
     "iopub.status.idle": "2023-01-12T18:17:18.633595Z",
     "shell.execute_reply": "2023-01-12T18:17:18.632420Z"
    },
    "papermill": {
     "duration": 0.042566,
     "end_time": "2023-01-12T18:17:18.635939",
     "exception": false,
     "start_time": "2023-01-12T18:17:18.593373",
     "status": "completed"
    },
    "tags": []
   },
   "outputs": [
    {
     "name": "stdout",
     "output_type": "stream",
     "text": [
      "Setup Complete\n"
     ]
    }
   ],
   "source": [
    "# Set up code checking\n",
    "from learntools.core import binder\n",
    "binder.bind(globals())\n",
    "from learntools.data_viz_to_coder.ex7 import *\n",
    "print(\"Setup Complete\")"
   ]
  },
  {
   "cell_type": "markdown",
   "id": "a0290d38",
   "metadata": {
    "papermill": {
     "duration": 0.003819,
     "end_time": "2023-01-12T18:17:18.643941",
     "exception": false,
     "start_time": "2023-01-12T18:17:18.640122",
     "status": "completed"
    },
    "tags": []
   },
   "source": [
    "## Step 1: Attach a dataset to the notebook\n",
    "\n",
    "Begin by selecting a CSV dataset from [Kaggle Datasets](https://www.kaggle.com/datasets).  If you're unsure how to do this, please revisit the instructions in the previous tutorial.\n",
    "\n",
    "Once you have selected a dataset, click on the **[+ Add data]** option in the top right corner.  This will generate a pop-up window that you can use to search for your chosen dataset.  \n",
    "\n",
    "![ex6_search_dataset](https://i.imgur.com/cIIWPUS.png)\n",
    "\n",
    "Once you have found the dataset, click on the **[Add]** button to attach it to the notebook.  You can check that it was successful by looking at the **Data** dropdown menu to the right of the notebook -- look for an **input** folder containing a subfolder that matches the name of the dataset.\n",
    "\n",
    "<center>\n",
    "<img src=\"https://i.imgur.com/nMYc1Nu.png\" width=30%><br/>\n",
    "</center>\n",
    "\n",
    "You can click on the carat to the left of the name of the dataset to double-check that it contains a CSV file.  For instance, the image below shows that the example dataset contains two CSV files: (1) **dc-wikia-data.csv**, and (2) **marvel-wikia-data.csv**.\n",
    "\n",
    "<center>\n",
    "<img src=\"https://i.imgur.com/B4sJkVA.png\" width=30%><br/>\n",
    "</center>\n",
    "\n",
    "Once you've uploaded a dataset with a CSV file, run the code cell below **without changes** to receive credit for your work!"
   ]
  },
  {
   "cell_type": "code",
   "execution_count": 3,
   "id": "24913960",
   "metadata": {
    "execution": {
     "iopub.execute_input": "2023-01-12T18:17:18.653554Z",
     "iopub.status.busy": "2023-01-12T18:17:18.652946Z",
     "iopub.status.idle": "2023-01-12T18:17:18.668967Z",
     "shell.execute_reply": "2023-01-12T18:17:18.667939Z"
    },
    "papermill": {
     "duration": 0.023499,
     "end_time": "2023-01-12T18:17:18.671390",
     "exception": false,
     "start_time": "2023-01-12T18:17:18.647891",
     "status": "completed"
    },
    "tags": []
   },
   "outputs": [
    {
     "data": {
      "application/javascript": [
       "parent.postMessage({\"jupyterEvent\": \"custom.exercise_interaction\", \"data\": {\"outcomeType\": 1, \"valueTowardsCompletion\": 0.25, \"interactionType\": 1, \"questionType\": 2, \"questionId\": \"1_AttachData\", \"learnToolsVersion\": \"0.3.4\", \"failureMessage\": \"\", \"exceptionClass\": \"\", \"trace\": \"\"}}, \"*\")"
      ],
      "text/plain": [
       "<IPython.core.display.Javascript object>"
      ]
     },
     "metadata": {},
     "output_type": "display_data"
    },
    {
     "data": {
      "text/markdown": [
       "<span style=\"color:#33cc33\">Correct:</span> \n",
       "\n"
      ],
      "text/plain": [
       "Correct: \n"
      ]
     },
     "metadata": {},
     "output_type": "display_data"
    }
   ],
   "source": [
    "# Check for a dataset with a CSV file\n",
    "step_1.check()"
   ]
  },
  {
   "cell_type": "markdown",
   "id": "531212e0",
   "metadata": {
    "papermill": {
     "duration": 0.004411,
     "end_time": "2023-01-12T18:17:18.680257",
     "exception": false,
     "start_time": "2023-01-12T18:17:18.675846",
     "status": "completed"
    },
    "tags": []
   },
   "source": [
    "## Step 2: Specify the filepath\n",
    "\n",
    "Now that the dataset is attached to the notebook, you can find its filepath.  To do this, begin by clicking on the CSV file you'd like to use.  This will open the CSV file in a tab below the notebook.  You can find the filepath towards the top of this new tab.  \n",
    "\n",
    "![ex6_filepath](https://i.imgur.com/fgXQV47.png)\n",
    "\n",
    "After you find the filepath corresponding to your dataset, fill it in as the value for `my_filepath` in the code cell below, and run the code cell to check that you've provided a valid filepath.  For instance, in the case of this example dataset, we would set\n",
    "```\n",
    "my_filepath = \"../input/fivethirtyeight-comic-characters-dataset/dc-wikia-data.csv\"\n",
    "```  \n",
    "Note that **you must enclose the filepath in quotation marks**; otherwise, the code will return an error.\n",
    "\n",
    "Once you've entered the filepath, you can close the tab below the notebook by clicking on the **[X]** at the top of the tab."
   ]
  },
  {
   "cell_type": "code",
   "execution_count": 4,
   "id": "e360ecfb",
   "metadata": {
    "execution": {
     "iopub.execute_input": "2023-01-12T18:17:18.690915Z",
     "iopub.status.busy": "2023-01-12T18:17:18.690379Z",
     "iopub.status.idle": "2023-01-12T18:17:18.699458Z",
     "shell.execute_reply": "2023-01-12T18:17:18.698348Z"
    },
    "papermill": {
     "duration": 0.01679,
     "end_time": "2023-01-12T18:17:18.701496",
     "exception": false,
     "start_time": "2023-01-12T18:17:18.684706",
     "status": "completed"
    },
    "tags": []
   },
   "outputs": [
    {
     "data": {
      "application/javascript": [
       "parent.postMessage({\"jupyterEvent\": \"custom.exercise_interaction\", \"data\": {\"outcomeType\": 1, \"valueTowardsCompletion\": 0.25, \"interactionType\": 1, \"questionType\": 2, \"questionId\": \"2_Filepath\", \"learnToolsVersion\": \"0.3.4\", \"failureMessage\": \"\", \"exceptionClass\": \"\", \"trace\": \"\"}}, \"*\")"
      ],
      "text/plain": [
       "<IPython.core.display.Javascript object>"
      ]
     },
     "metadata": {},
     "output_type": "display_data"
    },
    {
     "data": {
      "text/markdown": [
       "<span style=\"color:#33cc33\">Correct:</span> \n",
       "\n"
      ],
      "text/plain": [
       "Correct: \n"
      ]
     },
     "metadata": {},
     "output_type": "display_data"
    }
   ],
   "source": [
    "# Fill in the line below: Specify the path of the CSV file to read\n",
    "my_filepath =\"/kaggle/input/electricity-production/sales-of-shampoo-over-a-three-ye.csv\"\n",
    "\n",
    "# Check for a valid filepath to a CSV file in a dataset\n",
    "step_2.check()"
   ]
  },
  {
   "cell_type": "markdown",
   "id": "fe461ee2",
   "metadata": {
    "papermill": {
     "duration": 0.00428,
     "end_time": "2023-01-12T18:17:18.710226",
     "exception": false,
     "start_time": "2023-01-12T18:17:18.705946",
     "status": "completed"
    },
    "tags": []
   },
   "source": [
    "## Step 3: Load the data\n",
    "\n",
    "Use the next code cell to load your data file into `my_data`.  Use the filepath that you specified in the previous step."
   ]
  },
  {
   "cell_type": "code",
   "execution_count": 5,
   "id": "b45c260b",
   "metadata": {
    "execution": {
     "iopub.execute_input": "2023-01-12T18:17:18.720988Z",
     "iopub.status.busy": "2023-01-12T18:17:18.720243Z",
     "iopub.status.idle": "2023-01-12T18:17:18.743002Z",
     "shell.execute_reply": "2023-01-12T18:17:18.741684Z"
    },
    "papermill": {
     "duration": 0.03183,
     "end_time": "2023-01-12T18:17:18.746458",
     "exception": false,
     "start_time": "2023-01-12T18:17:18.714628",
     "status": "completed"
    },
    "tags": []
   },
   "outputs": [
    {
     "data": {
      "application/javascript": [
       "parent.postMessage({\"jupyterEvent\": \"custom.exercise_interaction\", \"data\": {\"outcomeType\": 1, \"valueTowardsCompletion\": 0.25, \"interactionType\": 1, \"questionType\": 2, \"questionId\": \"3_LoadData\", \"learnToolsVersion\": \"0.3.4\", \"failureMessage\": \"\", \"exceptionClass\": \"\", \"trace\": \"\"}}, \"*\")"
      ],
      "text/plain": [
       "<IPython.core.display.Javascript object>"
      ]
     },
     "metadata": {},
     "output_type": "display_data"
    },
    {
     "data": {
      "text/markdown": [
       "<span style=\"color:#33cc33\">Correct:</span> \n",
       "\n"
      ],
      "text/plain": [
       "Correct: \n"
      ]
     },
     "metadata": {},
     "output_type": "display_data"
    }
   ],
   "source": [
    "# Fill in the line below: Read the file into a variable my_data\n",
    "my_data = pd.read_csv(\"/kaggle/input/electricity-production/sales-of-shampoo-over-a-three-ye.csv\")\n",
    "\n",
    "# Check that a dataset has been uploaded into my_data\n",
    "step_3.check()"
   ]
  },
  {
   "cell_type": "markdown",
   "id": "4747ecc6",
   "metadata": {
    "papermill": {
     "duration": 0.00626,
     "end_time": "2023-01-12T18:17:18.760997",
     "exception": false,
     "start_time": "2023-01-12T18:17:18.754737",
     "status": "completed"
    },
    "tags": []
   },
   "source": [
    "**_After the code cell above is marked correct_**, run the code cell below without changes to view the first five rows of the data."
   ]
  },
  {
   "cell_type": "code",
   "execution_count": 6,
   "id": "719f406f",
   "metadata": {
    "execution": {
     "iopub.execute_input": "2023-01-12T18:17:18.774867Z",
     "iopub.status.busy": "2023-01-12T18:17:18.774169Z",
     "iopub.status.idle": "2023-01-12T18:17:18.795247Z",
     "shell.execute_reply": "2023-01-12T18:17:18.794483Z"
    },
    "papermill": {
     "duration": 0.031899,
     "end_time": "2023-01-12T18:17:18.797809",
     "exception": false,
     "start_time": "2023-01-12T18:17:18.765910",
     "status": "completed"
    },
    "tags": []
   },
   "outputs": [
    {
     "data": {
      "text/html": [
       "<div>\n",
       "<style scoped>\n",
       "    .dataframe tbody tr th:only-of-type {\n",
       "        vertical-align: middle;\n",
       "    }\n",
       "\n",
       "    .dataframe tbody tr th {\n",
       "        vertical-align: top;\n",
       "    }\n",
       "\n",
       "    .dataframe thead th {\n",
       "        text-align: right;\n",
       "    }\n",
       "</style>\n",
       "<table border=\"1\" class=\"dataframe\">\n",
       "  <thead>\n",
       "    <tr style=\"text-align: right;\">\n",
       "      <th></th>\n",
       "      <th>Month</th>\n",
       "      <th>Sales of shampoo over a three year period</th>\n",
       "    </tr>\n",
       "  </thead>\n",
       "  <tbody>\n",
       "    <tr>\n",
       "      <th>0</th>\n",
       "      <td>Jan-01</td>\n",
       "      <td>266.0</td>\n",
       "    </tr>\n",
       "    <tr>\n",
       "      <th>1</th>\n",
       "      <td>Feb-01</td>\n",
       "      <td>145.9</td>\n",
       "    </tr>\n",
       "    <tr>\n",
       "      <th>2</th>\n",
       "      <td>Mar-01</td>\n",
       "      <td>183.1</td>\n",
       "    </tr>\n",
       "    <tr>\n",
       "      <th>3</th>\n",
       "      <td>Apr-01</td>\n",
       "      <td>119.3</td>\n",
       "    </tr>\n",
       "    <tr>\n",
       "      <th>4</th>\n",
       "      <td>May-01</td>\n",
       "      <td>180.3</td>\n",
       "    </tr>\n",
       "  </tbody>\n",
       "</table>\n",
       "</div>"
      ],
      "text/plain": [
       "    Month  Sales of shampoo over a three year period\n",
       "0  Jan-01                                      266.0\n",
       "1  Feb-01                                      145.9\n",
       "2  Mar-01                                      183.1\n",
       "3  Apr-01                                      119.3\n",
       "4  May-01                                      180.3"
      ]
     },
     "execution_count": 6,
     "metadata": {},
     "output_type": "execute_result"
    }
   ],
   "source": [
    "# Print the first five rows of the data\n",
    "my_data.head()"
   ]
  },
  {
   "cell_type": "markdown",
   "id": "de326361",
   "metadata": {
    "papermill": {
     "duration": 0.004891,
     "end_time": "2023-01-12T18:17:18.807962",
     "exception": false,
     "start_time": "2023-01-12T18:17:18.803071",
     "status": "completed"
    },
    "tags": []
   },
   "source": [
    "## Step 4: Visualize the data\n",
    "\n",
    "Use the next code cell to create a figure that tells a story behind your dataset.  You can use any chart type (_line chart, bar chart, heatmap, etc_) of your choosing!"
   ]
  },
  {
   "cell_type": "code",
   "execution_count": 7,
   "id": "7d27faf9",
   "metadata": {
    "execution": {
     "iopub.execute_input": "2023-01-12T18:17:18.820152Z",
     "iopub.status.busy": "2023-01-12T18:17:18.819507Z",
     "iopub.status.idle": "2023-01-12T18:17:19.104636Z",
     "shell.execute_reply": "2023-01-12T18:17:19.103516Z"
    },
    "papermill": {
     "duration": 0.29405,
     "end_time": "2023-01-12T18:17:19.107084",
     "exception": false,
     "start_time": "2023-01-12T18:17:18.813034",
     "status": "completed"
    },
    "tags": []
   },
   "outputs": [
    {
     "data": {
      "application/javascript": [
       "parent.postMessage({\"jupyterEvent\": \"custom.exercise_interaction\", \"data\": {\"outcomeType\": 1, \"valueTowardsCompletion\": 0.25, \"interactionType\": 1, \"questionType\": 2, \"questionId\": \"4_CreatePlot\", \"learnToolsVersion\": \"0.3.4\", \"failureMessage\": \"\", \"exceptionClass\": \"\", \"trace\": \"\"}}, \"*\")"
      ],
      "text/plain": [
       "<IPython.core.display.Javascript object>"
      ]
     },
     "metadata": {},
     "output_type": "display_data"
    },
    {
     "data": {
      "text/markdown": [
       "<span style=\"color:#33cc33\">Correct:</span> \n",
       "\n"
      ],
      "text/plain": [
       "Correct: \n"
      ]
     },
     "metadata": {},
     "output_type": "display_data"
    },
    {
     "data": {
      "image/png": "[encoded data removed]",
      "text/plain": [
       "<Figure size 864x432 with 1 Axes>"
      ]
     },
     "metadata": {
      "needs_background": "light"
     },
     "output_type": "display_data"
    }
   ],
   "source": [
    "# Create a plot\n",
    "____ # Your code here\n",
    "plt.figure(figsize=(12,6))\n",
    "sns.histplot(x=my_data['Sales of shampoo over a three year period'])\n",
    "# Check that a figure appears below\n",
    "step_4.check()"
   ]
  },
  {
   "cell_type": "markdown",
   "id": "476372d8",
   "metadata": {
    "papermill": {
     "duration": 0.005287,
     "end_time": "2023-01-12T18:17:19.118133",
     "exception": false,
     "start_time": "2023-01-12T18:17:19.112846",
     "status": "completed"
    },
    "tags": []
   },
   "source": [
    "## Keep going\n",
    "\n",
    "Learn how to use your skills after completing the micro-course to create data visualizations in a **[final tutorial](https://www.kaggle.com/alexisbcook/creating-your-own-notebooks)**."
   ]
  },
  {
   "cell_type": "markdown",
   "id": "eae314e8",
   "metadata": {
    "papermill": {
     "duration": 0.005114,
     "end_time": "2023-01-12T18:17:19.129860",
     "exception": false,
     "start_time": "2023-01-12T18:17:19.124746",
     "status": "completed"
    },
    "tags": []
   },
   "source": [
    "---\n",
    "\n",
    "\n",
    "\n",
    "\n",
    "*Have questions or comments? Visit the [course discussion forum](https://www.kaggle.com/learn/data-visualization/discussion) to chat with other learners.*"
   ]
  }
 ],
 "metadata": {
  "kernelspec": {
   "display_name": "Python 3",
   "language": "python",
   "name": "python3"
  },
  "language_info": {
   "codemirror_mode": {
    "name": "ipython",
    "version": 3
   },
   "file_extension": ".py",
   "mimetype": "text/x-python",
   "name": "python",
   "nbconvert_exporter": "python",
   "pygments_lexer": "ipython3",
   "version": "3.7.12"
  },
  "papermill": {
   "default_parameters": {},
   "duration": 10.259068,
   "end_time": "2023-01-12T18:17:19.856649",
   "environment_variables": {},
   "exception": null,
   "input_path": "__notebook__.ipynb",
   "output_path": "__notebook__.ipynb",
   "parameters": {},
   "start_time": "2023-01-12T18:17:09.597581",
   "version": "2.3.4"
  }
 },
 "nbformat": 4,
 "nbformat_minor": 5
}
